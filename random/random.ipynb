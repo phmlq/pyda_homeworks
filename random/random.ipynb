{
 "cells": [
  {
   "cell_type": "markdown",
   "metadata": {},
   "source": [
    "## Домашнее задание к лекции «Случайные события. Случайные величины»"
   ]
  },
  {
   "cell_type": "markdown",
   "metadata": {},
   "source": [
    "Смоделировать игру против лотерейного автомата типа “777”. Игрок платит 1 руб., после чего выпадает случайное целое число, равномерно распределенное от 0 до 999. При некоторых значениях числа игрок получает выигрыш (см. справа)\n",
    "\n",
    "Выгодна ли игра игроку?\n",
    "\n",
    "Сколько в среднем приобретает\n",
    "или теряет игрок за одну игру?\n",
    "\n",
    "- 777: 200 руб.\n",
    "- 999: 100 руб.\n",
    "- 555: 50 руб.\n",
    "- 333: 15 руб.\n",
    "- 111: 10 руб.\n",
    "- *77: 5 руб.\n",
    "- **7: 3 руб.\n",
    "- *00: 2 руб.\n",
    "- **0: 1 руб.\n",
    "\n",
    "- * – любая цифра\n",
    "\n",
    "Дополнительное задание повышенной сложности. Теоретически рассчитать средний выигрыш (проигрыш) и сравнить с результатами моделирования"
   ]
  },
  {
   "cell_type": "markdown",
   "metadata": {},
   "source": [
    "## Решение:"
   ]
  },
  {
   "cell_type": "code",
   "execution_count": 1,
   "metadata": {},
   "outputs": [],
   "source": [
    "import numpy as np"
   ]
  },
  {
   "cell_type": "code",
   "execution_count": 36,
   "metadata": {
    "scrolled": false
   },
   "outputs": [
    {
     "name": "stdout",
     "output_type": "stream",
     "text": [
      "10000000 8007643 0.8007643\n"
     ]
    }
   ],
   "source": [
    "trials = 10000000    # Количество попыток (оно же — затраты)\n",
    "gains = 0    # Выигрыш\n",
    "for i in range(trials):\n",
    "    x = np.random.randint(0, 1000)\n",
    "    if x == 777:\n",
    "        gains += 200\n",
    "    elif x == 999:\n",
    "        gains += 100\n",
    "    elif x == 555:\n",
    "        gains += 50\n",
    "    elif x == 333:\n",
    "        gains += 15\n",
    "    elif x == 111:\n",
    "        gains += 10\n",
    "    elif x % 100 == 77:\n",
    "        gains += 5\n",
    "    elif x % 10 == 7:\n",
    "        gains += 3\n",
    "    elif x % 100 == 0:\n",
    "        gains += 2\n",
    "    elif x % 10 == 0:\n",
    "        gains += 1\n",
    "    \n",
    "g_avg = gains / trials    #Средний выигрыш за одну игру\n",
    "\n",
    "print(trials, gains, g_avg)"
   ]
  },
  {
   "cell_type": "code",
   "execution_count": 45,
   "metadata": {},
   "outputs": [
    {
     "name": "stdout",
     "output_type": "stream",
     "text": [
      "Средняя потеря за одну игру: 20 копеек\n"
     ]
    }
   ],
   "source": [
    "print(f'Средняя потеря за одну игру: {round(100*(1-g_avg))} копеек')"
   ]
  },
  {
   "cell_type": "markdown",
   "metadata": {},
   "source": [
    "**Вывод**: играть против этого автомата невыгодно, среднем игрок теряет 20 копеек за одну попытку.\n",
    "\n",
    "При стоимости игры 1 рубль (100 копеек) средний выигрыш — 80 копеек."
   ]
  },
  {
   "cell_type": "markdown",
   "metadata": {},
   "source": [
    "### Теоретический расчет среднего выигрыша:"
   ]
  },
  {
   "cell_type": "code",
   "execution_count": 46,
   "metadata": {},
   "outputs": [],
   "source": [
    "# Выигрышные комбинации, вероятность каждой комбинации и выигрыш при каждой комбинации:\n",
    "combinations = ['777', '999', '555', '333', '111', '77', '7', '00', '0']\n",
    "probabilities = [1/1000, 1/1000, 1/1000, 1/1000, 1/1000, (10-1)/1000, (100-1-9)/1000, 1/100, (10-1)/100]\n",
    "gains = [200, 100, 50, 15, 10, 5, 3, 2, 1]"
   ]
  },
  {
   "cell_type": "code",
   "execution_count": 47,
   "metadata": {},
   "outputs": [
    {
     "data": {
      "text/plain": [
       "0.8"
      ]
     },
     "execution_count": 47,
     "metadata": {},
     "output_type": "execute_result"
    }
   ],
   "source": [
    "#Подсчитываем теоретический выигрыш по формуле: P1*X1 + P2*X2 + ... + Pn*Xn\n",
    "avg_gain = 0\n",
    "for gain, probability in zip(gains, probabilities):\n",
    "    avg_gain += gain * probability\n",
    "avg_gain"
   ]
  },
  {
   "cell_type": "markdown",
   "metadata": {},
   "source": [
    "**Вывод**: Теоретические расчеты совпадают с данными, полученными при моделировании. В среднем игрок теряет 20 копеек за игру.\n",
    "\n",
    "Играть против этого автомата невыгодно."
   ]
  }
 ],
 "metadata": {
  "kernelspec": {
   "display_name": "Python 3",
   "language": "python",
   "name": "python3"
  },
  "language_info": {
   "codemirror_mode": {
    "name": "ipython",
    "version": 3
   },
   "file_extension": ".py",
   "mimetype": "text/x-python",
   "name": "python",
   "nbconvert_exporter": "python",
   "pygments_lexer": "ipython3",
   "version": "3.8.5"
  }
 },
 "nbformat": 4,
 "nbformat_minor": 4
}
