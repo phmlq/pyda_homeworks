{
 "cells": [
  {
   "cell_type": "markdown",
   "metadata": {},
   "source": [
    "# Домашнее задание к лекции \"Основы веб-скрапинга и работы с API\""
   ]
  },
  {
   "cell_type": "markdown",
   "metadata": {},
   "source": [
    "## Задание 1. \n",
    "\n",
    "### Обязательная часть"
   ]
  },
  {
   "cell_type": "markdown",
   "metadata": {},
   "source": [
    "Будем парсить страницу со свежеми новостям на [habr.com/ru/all/](https://habr.com/ru/all/).\n",
    "\n",
    "Вам необходимо собирать только те статьи, в которых встречается хотя бы одно требуемое ключевое слово. Эти слова определяем в начале кода в переменной, например:\n",
    "\n",
    "`KEYWORDS = ['python', 'парсинг']`\n",
    "\n",
    " Поиск вести по всей доступной preview-информации (это информация, доступная непосредственно с текущей страницы). \n",
    " \n",
    "В итоге должен формироваться датафрейм со столбцами: <дата> - <заголовок> - <ссылка>."
   ]
  },
  {
   "cell_type": "markdown",
   "metadata": {},
   "source": [
    "### Дополнительная часть (необязательная)"
   ]
  },
  {
   "cell_type": "markdown",
   "metadata": {},
   "source": [
    "Улучшить скрипт так, чтобы он анализировал не только preview-информацию статьи, но и весь текст статьи целиком.\n",
    "\n",
    "Для этого потребуется получать страницы статей и искать по тексту внутри этой страницы.\n",
    "\n",
    "Итоговый датафрейм формировать со столбцами: <дата> - <заголовок> - <ссылка> - <текст статьи>"
   ]
  },
  {
   "cell_type": "markdown",
   "metadata": {},
   "source": [
    "## Решение:"
   ]
  },
  {
   "cell_type": "code",
   "execution_count": 133,
   "metadata": {},
   "outputs": [],
   "source": [
    "import requests\n",
    "from bs4 import BeautifulSoup\n",
    "import pandas as pd"
   ]
  },
  {
   "cell_type": "code",
   "execution_count": 134,
   "metadata": {},
   "outputs": [],
   "source": [
    "KEYWORDS = ['python', 'парсинг', 'fedora', 'windows']"
   ]
  },
  {
   "cell_type": "code",
   "execution_count": 135,
   "metadata": {},
   "outputs": [],
   "source": [
    "page = requests.get('https://habr.com/ru/all/')"
   ]
  },
  {
   "cell_type": "code",
   "execution_count": 136,
   "metadata": {},
   "outputs": [],
   "source": [
    "soup = BeautifulSoup(page.text, 'html.parser')\n",
    "articles = soup.find_all('article', class_='post')"
   ]
  },
  {
   "cell_type": "code",
   "execution_count": 140,
   "metadata": {},
   "outputs": [],
   "source": [
    "def parse_date(a_date):\n",
    "    '''\n",
    "    Функция разбирает строку вида \"сегодня в 11:05\" или \"2 октября 2020 в 13:24\"\n",
    "    И возвращает дату (без времени) в объекте типа pandas.Timestamp\n",
    "    '''\n",
    "    if a_date.find('сегодня') != -1:\n",
    "        return pd.to_datetime('today').date()\n",
    "    elif a_date.find('вчера') != -1:\n",
    "        return pd.to_datetime('today').date() - pd.to_timedelta('1D')\n",
    "    else:\n",
    "        date_list = a_date.strip().split(' ')\n",
    "        date_list\n",
    "        if date_list[1] == 'января':\n",
    "            month = 1\n",
    "        elif date_list[1] == 'февраля':\n",
    "            month = 2\n",
    "        elif date_list[1] == 'марта':\n",
    "            month = 3\n",
    "        elif date_list[1] == 'апреля':\n",
    "            month = 4\n",
    "        elif date_list[1] == 'мая':\n",
    "            month = 5\n",
    "        elif date_list[1] == 'июня':\n",
    "            month = 6\n",
    "        elif date_list[1] == 'июля':\n",
    "            month = 7\n",
    "        elif date_list[1] == 'августа':\n",
    "            month = 8\n",
    "        elif date_list[1] == 'сентября':\n",
    "            month = 9\n",
    "        elif date_list[1] == 'октября':\n",
    "            month = 10\n",
    "        elif date_list[1] == 'ноября':\n",
    "            month = 11\n",
    "        elif date_list[1] == 'декабря':\n",
    "            month = 12\n",
    "        return pd.to_datetime(date_list[2]+'-'+str(month)+'-'+date_list[0]).date()"
   ]
  },
  {
   "cell_type": "markdown",
   "metadata": {},
   "source": [
    "### Стандартный скрипт:"
   ]
  },
  {
   "cell_type": "code",
   "execution_count": 149,
   "metadata": {
    "scrolled": true
   },
   "outputs": [
    {
     "data": {
      "text/html": [
       "<div>\n",
       "<style scoped>\n",
       "    .dataframe tbody tr th:only-of-type {\n",
       "        vertical-align: middle;\n",
       "    }\n",
       "\n",
       "    .dataframe tbody tr th {\n",
       "        vertical-align: top;\n",
       "    }\n",
       "\n",
       "    .dataframe thead th {\n",
       "        text-align: right;\n",
       "    }\n",
       "</style>\n",
       "<table border=\"1\" class=\"dataframe\">\n",
       "  <thead>\n",
       "    <tr style=\"text-align: right;\">\n",
       "      <th></th>\n",
       "      <th>title</th>\n",
       "      <th>link</th>\n",
       "      <th>date</th>\n",
       "    </tr>\n",
       "  </thead>\n",
       "  <tbody>\n",
       "    <tr>\n",
       "      <th>0</th>\n",
       "      <td>Готов релиз Fedora Linux для смартфонов</td>\n",
       "      <td>https://habr.com/ru/company/selectel/blog/521976/</td>\n",
       "      <td>2020-01-21</td>\n",
       "    </tr>\n",
       "    <tr>\n",
       "      <th>0</th>\n",
       "      <td>Вторая жизнь Virtual Floppy Drive</td>\n",
       "      <td>https://habr.com/ru/post/521962/</td>\n",
       "      <td>2020-01-21</td>\n",
       "    </tr>\n",
       "  </tbody>\n",
       "</table>\n",
       "</div>"
      ],
      "text/plain": [
       "                                     title  \\\n",
       "0  Готов релиз Fedora Linux для смартфонов   \n",
       "0        Вторая жизнь Virtual Floppy Drive   \n",
       "\n",
       "                                                link        date  \n",
       "0  https://habr.com/ru/company/selectel/blog/521976/  2020-01-21  \n",
       "0                   https://habr.com/ru/post/521962/  2020-01-21  "
      ]
     },
     "execution_count": 149,
     "metadata": {},
     "output_type": "execute_result"
    }
   ],
   "source": [
    "results = pd.DataFrame()\n",
    "for article in articles:\n",
    "    for keyword in KEYWORDS:\n",
    "        if article.find('div', class_='post__text').text.lower().find(keyword) != -1:\n",
    "            results = pd.concat([results, pd.DataFrame([{'title': article.h2.text.strip(), 'link': article.h2.a['href'], 'date': parse_date(a_date)}])])\n",
    "            break\n",
    "results"
   ]
  },
  {
   "cell_type": "markdown",
   "metadata": {},
   "source": [
    "### Улучшенный скрипт:"
   ]
  },
  {
   "cell_type": "code",
   "execution_count": 153,
   "metadata": {},
   "outputs": [
    {
     "data": {
      "text/html": [
       "<div>\n",
       "<style scoped>\n",
       "    .dataframe tbody tr th:only-of-type {\n",
       "        vertical-align: middle;\n",
       "    }\n",
       "\n",
       "    .dataframe tbody tr th {\n",
       "        vertical-align: top;\n",
       "    }\n",
       "\n",
       "    .dataframe thead th {\n",
       "        text-align: right;\n",
       "    }\n",
       "</style>\n",
       "<table border=\"1\" class=\"dataframe\">\n",
       "  <thead>\n",
       "    <tr style=\"text-align: right;\">\n",
       "      <th></th>\n",
       "      <th>title</th>\n",
       "      <th>link</th>\n",
       "      <th>date</th>\n",
       "      <th>text</th>\n",
       "    </tr>\n",
       "  </thead>\n",
       "  <tbody>\n",
       "    <tr>\n",
       "      <th>0</th>\n",
       "      <td>Готов релиз Fedora Linux для смартфонов</td>\n",
       "      <td>https://habr.com/ru/company/selectel/blog/521976/</td>\n",
       "      <td>2020-10-04</td>\n",
       "      <td>Скриншот десктопной версии Fedora Linux\\r\\nLin...</td>\n",
       "    </tr>\n",
       "    <tr>\n",
       "      <th>0</th>\n",
       "      <td>Вторая жизнь Virtual Floppy Drive</td>\n",
       "      <td>https://habr.com/ru/post/521962/</td>\n",
       "      <td>2020-10-04</td>\n",
       "      <td>Когда-то давно у меня была коллекция старинных...</td>\n",
       "    </tr>\n",
       "    <tr>\n",
       "      <th>0</th>\n",
       "      <td>Дайджест интересных материалов для мобильного ...</td>\n",
       "      <td>https://habr.com/ru/company/digital-ecosystems...</td>\n",
       "      <td>2020-10-04</td>\n",
       "      <td>В этом дайджесте — обновления Android, собстве...</td>\n",
       "    </tr>\n",
       "  </tbody>\n",
       "</table>\n",
       "</div>"
      ],
      "text/plain": [
       "                                               title  \\\n",
       "0            Готов релиз Fedora Linux для смартфонов   \n",
       "0                  Вторая жизнь Virtual Floppy Drive   \n",
       "0  Дайджест интересных материалов для мобильного ...   \n",
       "\n",
       "                                                link        date  \\\n",
       "0  https://habr.com/ru/company/selectel/blog/521976/  2020-10-04   \n",
       "0                   https://habr.com/ru/post/521962/  2020-10-04   \n",
       "0  https://habr.com/ru/company/digital-ecosystems...  2020-10-04   \n",
       "\n",
       "                                                text  \n",
       "0  Скриншот десктопной версии Fedora Linux\\r\\nLin...  \n",
       "0  Когда-то давно у меня была коллекция старинных...  \n",
       "0  В этом дайджесте — обновления Android, собстве...  "
      ]
     },
     "execution_count": 153,
     "metadata": {},
     "output_type": "execute_result"
    }
   ],
   "source": [
    "import time\n",
    "results = pd.DataFrame()\n",
    "for article in articles:\n",
    "    article_page = requests.get(article.h2.a['href'])\n",
    "    article_soup = BeautifulSoup(article_page.text, 'html.parser')\n",
    "    article_text = article_soup.find('div', class_='post__text').text\n",
    "    for keyword in KEYWORDS:\n",
    "        if article_text.lower().find(keyword) != -1:\n",
    "            results = pd.concat([results, pd.DataFrame([{'title': article.h2.text.strip(), 'link': article.h2.a['href'], 'date': parse_date(article.find('span', class_='post__time')), 'text': article_text.strip()}])])\n",
    "            break\n",
    "    time.sleep(0.2)\n",
    "results"
   ]
  },
  {
   "cell_type": "markdown",
   "metadata": {},
   "source": [
    "## Задание 2."
   ]
  },
  {
   "cell_type": "markdown",
   "metadata": {},
   "source": [
    "### Обязательная часть"
   ]
  },
  {
   "cell_type": "markdown",
   "metadata": {},
   "source": [
    "Написать скрипт, который будет проверять список e-mail адресов на утечку при помощи сервиса [Avast Hack Ckeck](https://www.avast.com/hackcheck/).\n",
    "Список email-ов задаем переменной в начале кода:  \n",
    "`EMAIL = [xxx@x.ru, yyy@y.com]`\n",
    "\n",
    "В итоге должен формироваться датафрейм со столбцами: <почта> - <дата утечки> - <источник утечки> - <описание утечки>."
   ]
  },
  {
   "cell_type": "markdown",
   "metadata": {},
   "source": [
    "## Решение:"
   ]
  },
  {
   "cell_type": "code",
   "execution_count": 208,
   "metadata": {},
   "outputs": [],
   "source": [
    "EMAIL = ['test@test.ru', 'test@test.com', 'test2@test.ru']"
   ]
  },
  {
   "cell_type": "code",
   "execution_count": 209,
   "metadata": {},
   "outputs": [
    {
     "data": {
      "text/plain": [
       "<Response [200]>"
      ]
     },
     "execution_count": 209,
     "metadata": {},
     "output_type": "execute_result"
    }
   ],
   "source": [
    "r_data = {'emailAddresses':EMAIL}\n",
    "r_headers = {'Vaar-Header-App-Product': 'hackcheck-web-avast',\n",
    "             'Vaar-Version':'0'}\n",
    "url = 'https://identityprotection.avast.com/v1/web/query/site-breaches/unauthorized-data'\n",
    "post_req = requests.post(url, json = r_data, headers = r_headers)\n",
    "post_req"
   ]
  },
  {
   "cell_type": "code",
   "execution_count": 210,
   "metadata": {},
   "outputs": [],
   "source": [
    "import json"
   ]
  },
  {
   "cell_type": "code",
   "execution_count": 211,
   "metadata": {},
   "outputs": [],
   "source": [
    "response = json.loads(post_req.text)"
   ]
  },
  {
   "cell_type": "code",
   "execution_count": 303,
   "metadata": {
    "scrolled": true
   },
   "outputs": [
    {
     "data": {
      "text/html": [
       "<div>\n",
       "<style scoped>\n",
       "    .dataframe tbody tr th:only-of-type {\n",
       "        vertical-align: middle;\n",
       "    }\n",
       "\n",
       "    .dataframe tbody tr th {\n",
       "        vertical-align: top;\n",
       "    }\n",
       "\n",
       "    .dataframe thead th {\n",
       "        text-align: right;\n",
       "    }\n",
       "</style>\n",
       "<table border=\"1\" class=\"dataframe\">\n",
       "  <thead>\n",
       "    <tr style=\"text-align: right;\">\n",
       "      <th></th>\n",
       "      <th>breaches</th>\n",
       "      <th>site</th>\n",
       "      <th>recordsCount</th>\n",
       "      <th>description</th>\n",
       "      <th>publishDate</th>\n",
       "    </tr>\n",
       "  </thead>\n",
       "  <tbody>\n",
       "    <tr>\n",
       "      <th>0</th>\n",
       "      <td>3873</td>\n",
       "      <td>expressshop.lv</td>\n",
       "      <td>33655</td>\n",
       "      <td>In March 2017, ExpressShop's user database was...</td>\n",
       "      <td>2017-04-20T00:00:00Z</td>\n",
       "    </tr>\n",
       "    <tr>\n",
       "      <th>1</th>\n",
       "      <td>3399</td>\n",
       "      <td>mobango.com</td>\n",
       "      <td>692332</td>\n",
       "      <td>In August 2011, Mobango's user database was al...</td>\n",
       "      <td>2017-03-15T00:00:00Z</td>\n",
       "    </tr>\n",
       "    <tr>\n",
       "      <th>2</th>\n",
       "      <td>347</td>\n",
       "      <td>aristos.pw</td>\n",
       "      <td>189277</td>\n",
       "      <td>In September 2016, Aristos.pw was breached. Th...</td>\n",
       "      <td>2017-01-16T00:00:00Z</td>\n",
       "    </tr>\n",
       "    <tr>\n",
       "      <th>3</th>\n",
       "      <td>13302</td>\n",
       "      <td>transylvania.ru</td>\n",
       "      <td>18124</td>\n",
       "      <td>At an unconfirmed date, Transylvania.ru's user...</td>\n",
       "      <td>2018-01-07T00:00:00Z</td>\n",
       "    </tr>\n",
       "    <tr>\n",
       "      <th>4</th>\n",
       "      <td>3762</td>\n",
       "      <td>policeone.com</td>\n",
       "      <td>715127</td>\n",
       "      <td>In 2015, PoliceOne's forum was an alleged targ...</td>\n",
       "      <td>2017-04-10T00:00:00Z</td>\n",
       "    </tr>\n",
       "  </tbody>\n",
       "</table>\n",
       "</div>"
      ],
      "text/plain": [
       "   breaches             site  recordsCount  \\\n",
       "0      3873   expressshop.lv         33655   \n",
       "1      3399      mobango.com        692332   \n",
       "2       347       aristos.pw        189277   \n",
       "3     13302  transylvania.ru         18124   \n",
       "4      3762    policeone.com        715127   \n",
       "\n",
       "                                         description           publishDate  \n",
       "0  In March 2017, ExpressShop's user database was...  2017-04-20T00:00:00Z  \n",
       "1  In August 2011, Mobango's user database was al...  2017-03-15T00:00:00Z  \n",
       "2  In September 2016, Aristos.pw was breached. Th...  2017-01-16T00:00:00Z  \n",
       "3  At an unconfirmed date, Transylvania.ru's user...  2018-01-07T00:00:00Z  \n",
       "4  In 2015, PoliceOne's forum was an alleged targ...  2017-04-10T00:00:00Z  "
      ]
     },
     "execution_count": 303,
     "metadata": {},
     "output_type": "execute_result"
    }
   ],
   "source": [
    "breaches = pd.DataFrame.from_dict(response['breaches'], orient='index').reset_index()\n",
    "breaches.rename(columns={'index':'breaches'}, inplace=True)\n",
    "breaches['breaches'] = breaches['breaches'].astype(int)\n",
    "breaches.head()"
   ]
  },
  {
   "cell_type": "code",
   "execution_count": 313,
   "metadata": {},
   "outputs": [],
   "source": [
    "breaches_by_mail = pd.DataFrame()\n",
    "for mail, values in response['summary'].items():\n",
    "    current = pd.DataFrame.from_dict(values)\n",
    "    current['mail'] = mail\n",
    "    breaches_by_mail = pd.concat([breaches_by_mail, current])\n",
    "    breaches_by_mail['breaches'] = breaches_by_mail['breaches'].astype(int)"
   ]
  },
  {
   "cell_type": "code",
   "execution_count": 314,
   "metadata": {},
   "outputs": [],
   "source": [
    "breaches_by_mail = breaches_by_mail.merge(breaches, on='breaches', how='left')"
   ]
  },
  {
   "cell_type": "code",
   "execution_count": 315,
   "metadata": {},
   "outputs": [
    {
     "data": {
      "text/html": [
       "<div>\n",
       "<style scoped>\n",
       "    .dataframe tbody tr th:only-of-type {\n",
       "        vertical-align: middle;\n",
       "    }\n",
       "\n",
       "    .dataframe tbody tr th {\n",
       "        vertical-align: top;\n",
       "    }\n",
       "\n",
       "    .dataframe thead th {\n",
       "        text-align: right;\n",
       "    }\n",
       "</style>\n",
       "<table border=\"1\" class=\"dataframe\">\n",
       "  <thead>\n",
       "    <tr style=\"text-align: right;\">\n",
       "      <th></th>\n",
       "      <th>mail</th>\n",
       "      <th>publishDate</th>\n",
       "      <th>site</th>\n",
       "      <th>description</th>\n",
       "    </tr>\n",
       "  </thead>\n",
       "  <tbody>\n",
       "    <tr>\n",
       "      <th>33</th>\n",
       "      <td>test@test.ru</td>\n",
       "      <td>2017-03-15T00:00:00Z</td>\n",
       "      <td>casinos.microgaming.com</td>\n",
       "      <td>At an unconfirmed date Casinos.Microgaming.com...</td>\n",
       "    </tr>\n",
       "    <tr>\n",
       "      <th>34</th>\n",
       "      <td>test@test.ru</td>\n",
       "      <td>2017-02-14T00:00:00Z</td>\n",
       "      <td>cfire.mail.ru</td>\n",
       "      <td>In July and August of 2016, two criminals carr...</td>\n",
       "    </tr>\n",
       "    <tr>\n",
       "      <th>35</th>\n",
       "      <td>test@test.ru</td>\n",
       "      <td>2017-02-06T00:00:00Z</td>\n",
       "      <td>umoveindia.com</td>\n",
       "      <td>In June 2016, UMoveIndia's user database was b...</td>\n",
       "    </tr>\n",
       "    <tr>\n",
       "      <th>36</th>\n",
       "      <td>test@test.ru</td>\n",
       "      <td>2017-03-31T00:00:00Z</td>\n",
       "      <td>fc-zenit.ru</td>\n",
       "      <td>In July 2010, FC Zenit's user database was all...</td>\n",
       "    </tr>\n",
       "    <tr>\n",
       "      <th>37</th>\n",
       "      <td>test@test.ru</td>\n",
       "      <td>2017-04-04T00:00:00Z</td>\n",
       "      <td>evony.com</td>\n",
       "      <td>In July 2016, gaming site Evony's user databas...</td>\n",
       "    </tr>\n",
       "    <tr>\n",
       "      <th>38</th>\n",
       "      <td>test@test.ru</td>\n",
       "      <td>2017-04-14T00:00:00Z</td>\n",
       "      <td>frozencraft.ru</td>\n",
       "      <td>In February 2015, Frozen Craft's user database...</td>\n",
       "    </tr>\n",
       "    <tr>\n",
       "      <th>39</th>\n",
       "      <td>test@test.ru</td>\n",
       "      <td>2017-09-28T00:00:00Z</td>\n",
       "      <td>talk.oneland.su</td>\n",
       "      <td>In December 2016, Oneland's user database was ...</td>\n",
       "    </tr>\n",
       "    <tr>\n",
       "      <th>40</th>\n",
       "      <td>test2@test.ru</td>\n",
       "      <td>2018-01-07T00:00:00Z</td>\n",
       "      <td>flashgamesnexus.com</td>\n",
       "      <td>In 2017, Flash Games Nexus' user database was ...</td>\n",
       "    </tr>\n",
       "    <tr>\n",
       "      <th>41</th>\n",
       "      <td>test2@test.ru</td>\n",
       "      <td>2017-11-04T00:00:00Z</td>\n",
       "      <td>myheritage.com</td>\n",
       "      <td>In October 2017, a customer database belonging...</td>\n",
       "    </tr>\n",
       "    <tr>\n",
       "      <th>42</th>\n",
       "      <td>test2@test.ru</td>\n",
       "      <td>2017-03-01T00:00:00Z</td>\n",
       "      <td>asterios.ru</td>\n",
       "      <td>In June 2010, Asterios' user database was alle...</td>\n",
       "    </tr>\n",
       "  </tbody>\n",
       "</table>\n",
       "</div>"
      ],
      "text/plain": [
       "             mail           publishDate                     site  \\\n",
       "33   test@test.ru  2017-03-15T00:00:00Z  casinos.microgaming.com   \n",
       "34   test@test.ru  2017-02-14T00:00:00Z            cfire.mail.ru   \n",
       "35   test@test.ru  2017-02-06T00:00:00Z           umoveindia.com   \n",
       "36   test@test.ru  2017-03-31T00:00:00Z              fc-zenit.ru   \n",
       "37   test@test.ru  2017-04-04T00:00:00Z                evony.com   \n",
       "38   test@test.ru  2017-04-14T00:00:00Z           frozencraft.ru   \n",
       "39   test@test.ru  2017-09-28T00:00:00Z          talk.oneland.su   \n",
       "40  test2@test.ru  2018-01-07T00:00:00Z      flashgamesnexus.com   \n",
       "41  test2@test.ru  2017-11-04T00:00:00Z           myheritage.com   \n",
       "42  test2@test.ru  2017-03-01T00:00:00Z              asterios.ru   \n",
       "\n",
       "                                          description  \n",
       "33  At an unconfirmed date Casinos.Microgaming.com...  \n",
       "34  In July and August of 2016, two criminals carr...  \n",
       "35  In June 2016, UMoveIndia's user database was b...  \n",
       "36  In July 2010, FC Zenit's user database was all...  \n",
       "37  In July 2016, gaming site Evony's user databas...  \n",
       "38  In February 2015, Frozen Craft's user database...  \n",
       "39  In December 2016, Oneland's user database was ...  \n",
       "40  In 2017, Flash Games Nexus' user database was ...  \n",
       "41  In October 2017, a customer database belonging...  \n",
       "42  In June 2010, Asterios' user database was alle...  "
      ]
     },
     "execution_count": 315,
     "metadata": {},
     "output_type": "execute_result"
    }
   ],
   "source": [
    "breaches_by_mail = breaches_by_mail[['mail', 'publishDate', 'site', 'description']]\n",
    "breaches_by_mail.tail(10)"
   ]
  },
  {
   "cell_type": "markdown",
   "metadata": {},
   "source": [
    "### Дополнительная часть (необязательная)"
   ]
  },
  {
   "cell_type": "markdown",
   "metadata": {},
   "source": [
    "Написать скрипт, который будет получать 50 последних постов указанной группы во Вконтакте.  \n",
    "Документация к API VK: https://vk.com/dev/methods\n",
    ", вам поможет метод [wall.get](https://vk.com/dev/wall.get)```\n",
    "GROUP = 'netology'\n",
    "TOKEN = УДАЛЯЙТЕ В ВЕРСИИ ДЛЯ ПРОВЕРКИ, НА GITHUB НЕ ВЫКЛАДЫВАТЬ\n",
    "```\n",
    "\n",
    "В итоге должен формироваться датафрейм со столбцами: <дата поста> - <текст поста>."
   ]
  },
  {
   "cell_type": "markdown",
   "metadata": {},
   "source": [
    "## Решение:"
   ]
  },
  {
   "cell_type": "code",
   "execution_count": 352,
   "metadata": {},
   "outputs": [],
   "source": [
    "NEWSFEED_REQUEST = 'https://api.vk.com/method/wall.get?'\n",
    "GROUP = 'netology'\n",
    "TOKEN = ''\n",
    "VERSION = '5.103'"
   ]
  },
  {
   "cell_type": "code",
   "execution_count": 353,
   "metadata": {},
   "outputs": [],
   "source": [
    "params = {\n",
    "    'access_token': TOKEN,\n",
    "    'v': VERSION,\n",
    "    'domain': GROUP,\n",
    "    'count': 50\n",
    "}"
   ]
  },
  {
   "cell_type": "code",
   "execution_count": 354,
   "metadata": {},
   "outputs": [
    {
     "data": {
      "text/plain": [
       "<Response [200]>"
      ]
     },
     "execution_count": 354,
     "metadata": {},
     "output_type": "execute_result"
    }
   ],
   "source": [
    "res = requests.get(NEWSFEED_REQUEST, params)\n",
    "res"
   ]
  },
  {
   "cell_type": "code",
   "execution_count": 355,
   "metadata": {},
   "outputs": [],
   "source": [
    "response = json.loads(res.text)"
   ]
  },
  {
   "cell_type": "code",
   "execution_count": 356,
   "metadata": {},
   "outputs": [],
   "source": [
    "news = pd.DataFrame.from_dict(response['response']['items'])"
   ]
  },
  {
   "cell_type": "code",
   "execution_count": 357,
   "metadata": {},
   "outputs": [],
   "source": [
    "news = news[['date', 'text']]"
   ]
  },
  {
   "cell_type": "code",
   "execution_count": 358,
   "metadata": {},
   "outputs": [
    {
     "data": {
      "text/html": [
       "<div>\n",
       "<style scoped>\n",
       "    .dataframe tbody tr th:only-of-type {\n",
       "        vertical-align: middle;\n",
       "    }\n",
       "\n",
       "    .dataframe tbody tr th {\n",
       "        vertical-align: top;\n",
       "    }\n",
       "\n",
       "    .dataframe thead th {\n",
       "        text-align: right;\n",
       "    }\n",
       "</style>\n",
       "<table border=\"1\" class=\"dataframe\">\n",
       "  <thead>\n",
       "    <tr style=\"text-align: right;\">\n",
       "      <th></th>\n",
       "      <th>date</th>\n",
       "      <th>text</th>\n",
       "    </tr>\n",
       "  </thead>\n",
       "  <tbody>\n",
       "    <tr>\n",
       "      <th>0</th>\n",
       "      <td>1601280010</td>\n",
       "      <td>Всё ещё дарим подарки 🎁\\n \\nКаждую неделю разы...</td>\n",
       "    </tr>\n",
       "    <tr>\n",
       "      <th>1</th>\n",
       "      <td>1601819640</td>\n",
       "      <td>Собрали для вас подборку выступлений с конфере...</td>\n",
       "    </tr>\n",
       "    <tr>\n",
       "      <th>2</th>\n",
       "      <td>1601796240</td>\n",
       "      <td>*партнёрский пост* \\n \\nИнтернет-издание «Лайк...</td>\n",
       "    </tr>\n",
       "    <tr>\n",
       "      <th>3</th>\n",
       "      <td>1601729640</td>\n",
       "      <td>В новой афише интересных онлайн-мероприятий: ч...</td>\n",
       "    </tr>\n",
       "    <tr>\n",
       "      <th>4</th>\n",
       "      <td>1601710920</td>\n",
       "      <td>Повышаем конверсию, составляем динамические пи...</td>\n",
       "    </tr>\n",
       "    <tr>\n",
       "      <th>5</th>\n",
       "      <td>1601650440</td>\n",
       "      <td>В эфире #пятничнаябеседка. Здесь мы обсуждаем,...</td>\n",
       "    </tr>\n",
       "    <tr>\n",
       "      <th>6</th>\n",
       "      <td>1601623320</td>\n",
       "      <td>Точно решили, кем хотите стать в диджитале, но...</td>\n",
       "    </tr>\n",
       "    <tr>\n",
       "      <th>7</th>\n",
       "      <td>1601562240</td>\n",
       "      <td>Можно придумать взрывную идею и ждать, когда о...</td>\n",
       "    </tr>\n",
       "    <tr>\n",
       "      <th>8</th>\n",
       "      <td>1601539680</td>\n",
       "      <td>Ещё несколько лет назад все ловили покемонов н...</td>\n",
       "    </tr>\n",
       "    <tr>\n",
       "      <th>9</th>\n",
       "      <td>1601478480</td>\n",
       "      <td>Новая задачка: давайте узнаем, кто из дизайнер...</td>\n",
       "    </tr>\n",
       "  </tbody>\n",
       "</table>\n",
       "</div>"
      ],
      "text/plain": [
       "         date                                               text\n",
       "0  1601280010  Всё ещё дарим подарки 🎁\\n \\nКаждую неделю разы...\n",
       "1  1601819640  Собрали для вас подборку выступлений с конфере...\n",
       "2  1601796240  *партнёрский пост* \\n \\nИнтернет-издание «Лайк...\n",
       "3  1601729640  В новой афише интересных онлайн-мероприятий: ч...\n",
       "4  1601710920  Повышаем конверсию, составляем динамические пи...\n",
       "5  1601650440  В эфире #пятничнаябеседка. Здесь мы обсуждаем,...\n",
       "6  1601623320  Точно решили, кем хотите стать в диджитале, но...\n",
       "7  1601562240  Можно придумать взрывную идею и ждать, когда о...\n",
       "8  1601539680  Ещё несколько лет назад все ловили покемонов н...\n",
       "9  1601478480  Новая задачка: давайте узнаем, кто из дизайнер..."
      ]
     },
     "execution_count": 358,
     "metadata": {},
     "output_type": "execute_result"
    }
   ],
   "source": [
    "news.head(10)"
   ]
  }
 ],
 "metadata": {
  "kernelspec": {
   "display_name": "Python 3",
   "language": "python",
   "name": "python3"
  },
  "language_info": {
   "codemirror_mode": {
    "name": "ipython",
    "version": 3
   },
   "file_extension": ".py",
   "mimetype": "text/x-python",
   "name": "python",
   "nbconvert_exporter": "python",
   "pygments_lexer": "ipython3",
   "version": "3.8.3"
  }
 },
 "nbformat": 4,
 "nbformat_minor": 2
}
