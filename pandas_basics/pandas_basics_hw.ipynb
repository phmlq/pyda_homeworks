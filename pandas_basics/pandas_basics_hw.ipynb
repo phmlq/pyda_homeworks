{
 "cells": [
  {
   "cell_type": "markdown",
   "metadata": {},
   "source": [
    "## Задание 1\n",
    "\n",
    "Скачайте с сайта https://grouplens.org/datasets/movielens/ датасет любого размера. Определите какому фильму было выставлено больше всего оценок 5.0."
   ]
  },
  {
   "cell_type": "markdown",
   "metadata": {},
   "source": [
    "## Решение:"
   ]
  },
  {
   "cell_type": "code",
   "execution_count": 433,
   "metadata": {},
   "outputs": [],
   "source": [
    "import pandas as pd"
   ]
  },
  {
   "cell_type": "code",
   "execution_count": 434,
   "metadata": {
    "scrolled": true
   },
   "outputs": [],
   "source": [
    "ratings = pd.read_csv('ml-latest-small/ratings.csv')\n",
    "movies = pd.read_csv('ml-latest-small/movies.csv')"
   ]
  },
  {
   "cell_type": "code",
   "execution_count": 435,
   "metadata": {},
   "outputs": [
    {
     "name": "stdout",
     "output_type": "stream",
     "text": [
      "Фильм с максимальным количеством оценок 5.0 (318): Shawshank Redemption, The (1994)\n"
     ]
    }
   ],
   "source": [
    "res = ratings[ratings['rating'] == 5.0]['movieId'].value_counts().index[0]\n",
    "print(f'Фильм с максимальным количеством оценок 5.0 ({res}): {movies[\"title\"][movies[\"movieId\"] == res].iloc[0]}')"
   ]
  },
  {
   "cell_type": "markdown",
   "metadata": {},
   "source": [
    "## Задание 2\n",
    "\n",
    "По данным файла power.csv посчитайте суммарное потребление стран Прибалтики (Латвия, Литва и Эстония) категорий 4, 12 и 21 за период с 2005 по 2010 года. Не учитывайте в расчетах отрицательные значения quantity."
   ]
  },
  {
   "cell_type": "markdown",
   "metadata": {},
   "source": [
    "## Решение:"
   ]
  },
  {
   "cell_type": "code",
   "execution_count": 436,
   "metadata": {},
   "outputs": [],
   "source": [
    "data = pd.read_csv('power.csv')"
   ]
  },
  {
   "cell_type": "markdown",
   "metadata": {},
   "source": [
    "Хотел сделать функцией (как в презентации), но не смог найти, как через apply передать в функцию несколько аргументов. Поэтому сделал длинным запросом."
   ]
  },
  {
   "cell_type": "code",
   "execution_count": 437,
   "metadata": {},
   "outputs": [
    {
     "data": {
      "text/plain": [
       "240580.0"
      ]
     },
     "execution_count": 437,
     "metadata": {},
     "output_type": "execute_result"
    }
   ],
   "source": [
    "filtered_data = data[ ((data['country'] == 'Estonia') | (data['country'] == 'Latvia') | (data['country'] == 'Lithuania')) & ((data['category'] == 4) | (data['category'] == 12) | (data['category'] == 21)) & (data['year'] <= 2010) & (data['year'] >= 2005) & (data['quantity'] > 0)]\n",
    "sum(filtered_data['quantity'])"
   ]
  },
  {
   "cell_type": "markdown",
   "metadata": {},
   "source": [
    "## Задание 3\n",
    "\n",
    "Выберите страницу любого сайта с табличными данными. Импортируйте таблицы в pandas dataframe.\n",
    "Примеры страниц (необязательно брать именно эти):\n",
    "https://fortrader.org/quotes\n",
    "https://www.finanz.ru/valyuty/v-realnom-vremeni"
   ]
  },
  {
   "cell_type": "markdown",
   "metadata": {},
   "source": [
    "## Решение:"
   ]
  },
  {
   "cell_type": "code",
   "execution_count": 438,
   "metadata": {},
   "outputs": [],
   "source": [
    "page_url = 'https://www.finanz.ru/valyuty/v-realnom-vremeni'"
   ]
  },
  {
   "cell_type": "markdown",
   "metadata": {},
   "source": [
    "На странице две таблицы, считываем их по отдельности"
   ]
  },
  {
   "cell_type": "code",
   "execution_count": 439,
   "metadata": {},
   "outputs": [],
   "source": [
    "raw_quotes = pd.read_html(page_url, attrs = {'class': 'header_user_pricebox'}, decimal=',', thousands='', encoding='utf-8')[0]\n",
    "currencies = pd.read_html(page_url, attrs = {'class': 'quote_list'}, decimal=',', thousands='', encoding='utf-8')[0].drop(columns='Unnamed: 0')"
   ]
  },
  {
   "cell_type": "markdown",
   "metadata": {},
   "source": [
    "Таблицы выглядят страшновато, поэтому немного их причесал"
   ]
  },
  {
   "cell_type": "code",
   "execution_count": 440,
   "metadata": {},
   "outputs": [],
   "source": [
    "import numpy as np"
   ]
  },
  {
   "cell_type": "code",
   "execution_count": 441,
   "metadata": {
    "scrolled": true
   },
   "outputs": [
    {
     "data": {
      "text/html": [
       "<div>\n",
       "<style scoped>\n",
       "    .dataframe tbody tr th:only-of-type {\n",
       "        vertical-align: middle;\n",
       "    }\n",
       "\n",
       "    .dataframe tbody tr th {\n",
       "        vertical-align: top;\n",
       "    }\n",
       "\n",
       "    .dataframe thead th {\n",
       "        text-align: right;\n",
       "    }\n",
       "</style>\n",
       "<table border=\"1\" class=\"dataframe\">\n",
       "  <thead>\n",
       "    <tr style=\"text-align: right;\">\n",
       "      <th></th>\n",
       "      <th>Индекс</th>\n",
       "      <th>Значение</th>\n",
       "      <th>Изменение</th>\n",
       "    </tr>\n",
       "  </thead>\n",
       "  <tbody>\n",
       "    <tr>\n",
       "      <th>0</th>\n",
       "      <td>ММВБ</td>\n",
       "      <td>2 952</td>\n",
       "      <td>-0,7%</td>\n",
       "    </tr>\n",
       "    <tr>\n",
       "      <th>1</th>\n",
       "      <td>Nasdaq</td>\n",
       "      <td>10 793</td>\n",
       "      <td>-1,1%</td>\n",
       "    </tr>\n",
       "    <tr>\n",
       "      <th>2</th>\n",
       "      <td>Биткойн</td>\n",
       "      <td>10 950</td>\n",
       "      <td>-1,3%</td>\n",
       "    </tr>\n",
       "    <tr>\n",
       "      <th>3</th>\n",
       "      <td>USD/RUB</td>\n",
       "      <td>75.6995</td>\n",
       "      <td>0,1%</td>\n",
       "    </tr>\n",
       "    <tr>\n",
       "      <th>4</th>\n",
       "      <td>РТС</td>\n",
       "      <td>1 229</td>\n",
       "      <td>-1,2%</td>\n",
       "    </tr>\n",
       "    <tr>\n",
       "      <th>5</th>\n",
       "      <td>S&amp;P500</td>\n",
       "      <td>3 319</td>\n",
       "      <td>-1,1%</td>\n",
       "    </tr>\n",
       "    <tr>\n",
       "      <th>6</th>\n",
       "      <td>Нефть</td>\n",
       "      <td>43.0</td>\n",
       "      <td>-0,5%</td>\n",
       "    </tr>\n",
       "    <tr>\n",
       "      <th>7</th>\n",
       "      <td>EUR/RUB</td>\n",
       "      <td>89.677</td>\n",
       "      <td>0,8%</td>\n",
       "    </tr>\n",
       "    <tr>\n",
       "      <th>8</th>\n",
       "      <td>Dow</td>\n",
       "      <td>27 657</td>\n",
       "      <td>-0,9%</td>\n",
       "    </tr>\n",
       "    <tr>\n",
       "      <th>9</th>\n",
       "      <td>FTSE100</td>\n",
       "      <td>6 007</td>\n",
       "      <td>-0,7%</td>\n",
       "    </tr>\n",
       "    <tr>\n",
       "      <th>10</th>\n",
       "      <td>Золото</td>\n",
       "      <td>1 962</td>\n",
       "      <td>0,6%</td>\n",
       "    </tr>\n",
       "    <tr>\n",
       "      <th>11</th>\n",
       "      <td>EUR/USD</td>\n",
       "      <td>1.1843</td>\n",
       "      <td>0,0%</td>\n",
       "    </tr>\n",
       "  </tbody>\n",
       "</table>\n",
       "</div>"
      ],
      "text/plain": [
       "     Индекс Значение Изменение\n",
       "0      ММВБ    2 952     -0,7%\n",
       "1    Nasdaq   10 793     -1,1%\n",
       "2   Биткойн   10 950     -1,3%\n",
       "3   USD/RUB  75.6995      0,1%\n",
       "4       РТС    1 229     -1,2%\n",
       "5    S&P500    3 319     -1,1%\n",
       "6     Нефть     43.0     -0,5%\n",
       "7   EUR/RUB   89.677      0,8%\n",
       "8       Dow   27 657     -0,9%\n",
       "9   FTSE100    6 007     -0,7%\n",
       "10   Золото    1 962      0,6%\n",
       "11  EUR/USD   1.1843      0,0%"
      ]
     },
     "execution_count": 441,
     "metadata": {},
     "output_type": "execute_result"
    }
   ],
   "source": [
    "quotes = pd.DataFrame(raw_quotes.values.reshape(12,3))\n",
    "quotes.columns = ['Индекс', 'Значение', 'Изменение']\n",
    "quotes"
   ]
  },
  {
   "cell_type": "markdown",
   "metadata": {},
   "source": [
    "Честно сказать, не смог ни найти, ни придумать, как заставить read_html воспринимать каждый th внути table как отдельную таблицу, поэтому сделал функцию для вытаскивания из DataFrame конкретной валюты"
   ]
  },
  {
   "cell_type": "code",
   "execution_count": 442,
   "metadata": {},
   "outputs": [],
   "source": [
    "currencies.rename(columns={'Рубль':'Индекс'}, inplace=True)"
   ]
  },
  {
   "cell_type": "code",
   "execution_count": 443,
   "metadata": {},
   "outputs": [],
   "source": [
    "def get_currency_rates(currency, currencies):\n",
    "    if currency.upper() in ('RUB', 'CHF', 'UAH'):\n",
    "        return currencies[currencies['Индекс'].str.contains(f'/{currency.upper()}')].drop_duplicates()\n",
    "    else:\n",
    "        return currencies[currencies['Индекс'].str.contains(f'{currency.upper()}/')].drop_duplicates()        "
   ]
  },
  {
   "cell_type": "code",
   "execution_count": 444,
   "metadata": {},
   "outputs": [
    {
     "data": {
      "text/html": [
       "<div>\n",
       "<style scoped>\n",
       "    .dataframe tbody tr th:only-of-type {\n",
       "        vertical-align: middle;\n",
       "    }\n",
       "\n",
       "    .dataframe tbody tr th {\n",
       "        vertical-align: top;\n",
       "    }\n",
       "\n",
       "    .dataframe thead th {\n",
       "        text-align: right;\n",
       "    }\n",
       "</style>\n",
       "<table border=\"1\" class=\"dataframe\">\n",
       "  <thead>\n",
       "    <tr style=\"text-align: right;\">\n",
       "      <th></th>\n",
       "      <th>Индекс</th>\n",
       "      <th>Предложение</th>\n",
       "      <th>Спрос</th>\n",
       "      <th>Предыдущее закрытие</th>\n",
       "      <th>%</th>\n",
       "      <th>Абсолютное значение</th>\n",
       "      <th>Время</th>\n",
       "    </tr>\n",
       "  </thead>\n",
       "  <tbody>\n",
       "    <tr>\n",
       "      <th>3</th>\n",
       "      <td>JPY/RUB</td>\n",
       "      <td>0.7240</td>\n",
       "      <td>-</td>\n",
       "      <td>0.7235</td>\n",
       "      <td>0,06 %</td>\n",
       "      <td>0.0004</td>\n",
       "      <td>19.09.2020</td>\n",
       "    </tr>\n",
       "    <tr>\n",
       "      <th>17</th>\n",
       "      <td>JPY/EUR (100:1)</td>\n",
       "      <td>0.8100</td>\n",
       "      <td>-</td>\n",
       "      <td>0.8100</td>\n",
       "      <td>-0,03 %</td>\n",
       "      <td>0.0000</td>\n",
       "      <td>19.09.2020</td>\n",
       "    </tr>\n",
       "    <tr>\n",
       "      <th>18</th>\n",
       "      <td>JPY/GBP</td>\n",
       "      <td>0.0074</td>\n",
       "      <td>-</td>\n",
       "      <td>0.0074</td>\n",
       "      <td>0,00 %</td>\n",
       "      <td>0.0000</td>\n",
       "      <td>19.09.2020</td>\n",
       "    </tr>\n",
       "    <tr>\n",
       "      <th>19</th>\n",
       "      <td>JPY/USD</td>\n",
       "      <td>0.0096</td>\n",
       "      <td>-</td>\n",
       "      <td>0.0096</td>\n",
       "      <td>0,00 %</td>\n",
       "      <td>0.0000</td>\n",
       "      <td>19.09.2020</td>\n",
       "    </tr>\n",
       "    <tr>\n",
       "      <th>20</th>\n",
       "      <td>JPY/CHF (100:1)</td>\n",
       "      <td>0.8700</td>\n",
       "      <td>-</td>\n",
       "      <td>0.8700</td>\n",
       "      <td>0,54 %</td>\n",
       "      <td>0.0000</td>\n",
       "      <td>19.09.2020</td>\n",
       "    </tr>\n",
       "  </tbody>\n",
       "</table>\n",
       "</div>"
      ],
      "text/plain": [
       "             Индекс Предложение Спрос Предыдущее закрытие        %  \\\n",
       "3           JPY/RUB      0.7240     -              0.7235   0,06 %   \n",
       "17  JPY/EUR (100:1)      0.8100     -              0.8100  -0,03 %   \n",
       "18          JPY/GBP      0.0074     -              0.0074   0,00 %   \n",
       "19          JPY/USD      0.0096     -              0.0096   0,00 %   \n",
       "20  JPY/CHF (100:1)      0.8700     -              0.8700   0,54 %   \n",
       "\n",
       "   Абсолютное значение       Время  \n",
       "3               0.0004  19.09.2020  \n",
       "17              0.0000  19.09.2020  \n",
       "18              0.0000  19.09.2020  \n",
       "19              0.0000  19.09.2020  \n",
       "20              0.0000  19.09.2020  "
      ]
     },
     "execution_count": 444,
     "metadata": {},
     "output_type": "execute_result"
    }
   ],
   "source": [
    "get_currency_rates('jpy', currencies)"
   ]
  }
 ],
 "metadata": {
  "kernelspec": {
   "display_name": "Python 3",
   "language": "python",
   "name": "python3"
  },
  "language_info": {
   "codemirror_mode": {
    "name": "ipython",
    "version": 3
   },
   "file_extension": ".py",
   "mimetype": "text/x-python",
   "name": "python",
   "nbconvert_exporter": "python",
   "pygments_lexer": "ipython3",
   "version": "3.8.3"
  }
 },
 "nbformat": 4,
 "nbformat_minor": 4
}
