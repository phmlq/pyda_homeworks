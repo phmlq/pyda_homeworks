{
 "cells": [
  {
   "cell_type": "markdown",
   "metadata": {},
   "source": [
    "## Задание 1\n",
    "Печатные газеты использовали свой формат дат для каждого выпуска. Для каждой газеты из списка напишите формат указанной даты для перевода в объект datetime:\n",
    "* The Moscow Times - Wednesday, October 2, 2002\n",
    "* The Guardian - Friday, 11.10.13\n",
    "* Daily News - Thursday, 18 August 1977"
   ]
  },
  {
   "cell_type": "markdown",
   "metadata": {},
   "source": [
    "## Решение:"
   ]
  },
  {
   "cell_type": "code",
   "execution_count": 30,
   "metadata": {},
   "outputs": [],
   "source": [
    "from datetime import datetime\n",
    "# Импортируем один раз для всех решений"
   ]
  },
  {
   "cell_type": "code",
   "execution_count": 31,
   "metadata": {},
   "outputs": [
    {
     "name": "stdout",
     "output_type": "stream",
     "text": [
      "2002-10-02 00:00:00\n",
      "2013-10-11 00:00:00\n",
      "1977-08-18 00:00:00\n"
     ]
    }
   ],
   "source": [
    "mt_time = datetime.strptime('Wednesday, October 2, 2002', '%A, %B %d, %Y')\n",
    "g_time = datetime.strptime('Friday, 11.10.13', '%A, %d.%m.%y')\n",
    "dn_time = datetime.strptime('Thursday, 18 August 1977', '%A, %d %B %Y')\n",
    "\n",
    "print(mt_time)\n",
    "print(g_time)\n",
    "print(dn_time)"
   ]
  },
  {
   "cell_type": "markdown",
   "metadata": {},
   "source": [
    "## Задание 2\n",
    "Дан поток дат в формате YYYY-MM-DD, в которых встречаются некорректные значения:\n",
    "* stream = [‘2018-04-02’, ‘2018-02-29’, ‘2018-19-02’]`\n",
    "\n",
    "Напишите функцию, которая проверяет эти даты на корректность. Т. е. для каждой даты возвращает True (дата корректна) или False (некорректная дата)."
   ]
  },
  {
   "cell_type": "markdown",
   "metadata": {},
   "source": [
    "## Решение:"
   ]
  },
  {
   "cell_type": "code",
   "execution_count": 32,
   "metadata": {},
   "outputs": [
    {
     "name": "stdout",
     "output_type": "stream",
     "text": [
      "Корректный формат даты: 2018-04-02\n",
      "Некорректный формат даты: 2018-02-29\n",
      "Некорректный формат даты: 2018-19-02\n"
     ]
    }
   ],
   "source": [
    "stream = ['2018-04-02', '2018-02-29', '2018-19-02']\n",
    "\n",
    "def is_date_correct(date):\n",
    "    '''\n",
    "    Проверяю соответствует ли входной параметр формату: YYYY-MM-DD\n",
    "    '''\n",
    "    try:\n",
    "        datetime.strptime(date,'%Y-%m-%d')\n",
    "        print(f'Корректный формат даты: {date}')\n",
    "        return True\n",
    "    except ValueError:\n",
    "        print(f'Некорректный формат даты: {date}')\n",
    "        return False\n",
    "\n",
    "for date in stream:\n",
    "     is_date_correct(date)"
   ]
  },
  {
   "cell_type": "markdown",
   "metadata": {},
   "source": [
    "## Задание 3\n",
    "Напишите функцию date_range, которая возвращает список дат за период от start_date до end_date. Даты должны вводиться в формате YYYY-MM-DD. В случае неверного формата или при start_date > end_date должен возвращаться пустой список."
   ]
  },
  {
   "cell_type": "markdown",
   "metadata": {},
   "source": [
    "## Решение:"
   ]
  },
  {
   "cell_type": "code",
   "execution_count": 33,
   "metadata": {},
   "outputs": [],
   "source": [
    "from datetime import timedelta\n",
    "\n",
    "def date_range(start_date,end_date):\n",
    "    '''\n",
    "    Возвращаю список дат от start_date до end_date (обе — включительно)\n",
    "    '''\n",
    "    result = []\n",
    "    try:\n",
    "        start_date = datetime.strptime(start_date,'%Y-%m-%d')\n",
    "        end_date = datetime.strptime(end_date,'%Y-%m-%d')\n",
    "    except ValueError:\n",
    "        return result\n",
    "    while start_date <= end_date:\n",
    "        result.append(datetime.strftime(start_date,'%Y-%m-%d'))\n",
    "        start_date += timedelta(days = 1)\n",
    "    return result"
   ]
  },
  {
   "cell_type": "code",
   "execution_count": null,
   "metadata": {},
   "outputs": [],
   "source": [
    "print(date_range(input('Введите дату начала: '), input('Введите дату окончания: ')))"
   ]
  },
  {
   "cell_type": "markdown",
   "metadata": {},
   "source": [
    "## Задание 4 (бонусное)\n",
    "Ваш коллега прислал код функции:\n",
    "\n",
    "```\n",
    "DEFAULT_USER_COUNT = 3\n",
    "\n",
    "def delete_and_return_last_user(region, default_list=[‘A100’, ‘A101’, ‘A102’]):\n",
    "\n",
    "\"\"\"\n",
    "Удаляет из списка default_list последнего пользователя\n",
    "и возвращает ID нового последнего пользователя.\n",
    "\"\"\"\n",
    "element_to_delete = default_list[-1]\n",
    "default_list.remove(element_to_delete)\n",
    "\n",
    "return default_list[DEFAULT_USER_COUNT-2]`\n",
    "```\n",
    "При однократном вызове этой функции все работает корректно:\n",
    "```\n",
    "delete_and_return_last_user(1)\n",
    "‘A101’`\n",
    "```\n",
    "Однако, при повторном вызове получается ошибка IndexError: list index out of range.\n",
    "\n",
    "Задание:\n",
    "\n",
    "* Что значит ошибка list index out of range?\n",
    "* Почему при первом запуске функция работает корректно, а при втором - нет?"
   ]
  },
  {
   "cell_type": "markdown",
   "metadata": {},
   "source": [
    "## Решение:"
   ]
  },
  {
   "cell_type": "markdown",
   "metadata": {},
   "source": [
    "* Сообщение «list index out of range» означает, что в списке нет элемента с указанным номером. В примере из задания мы пытаемся обратиться к элементу с номером 1, которого нет в списке: там остался единственный элемент с индексом 0.\n",
    "* При первом вызове функция отрабатывает корректно, поскольку в момент обращения к default_list [DEFAULT_USER_COUNT-2] в списке есть элемент с номером 1 (который по совместительству является и последним его элементом). При втором вызове длина списка уменьшилась, а значение переменной DEFAULT_USER_COUNT осталось прежним. Мы снова общаемся к элементу с номером 1, которого в списке уже нет."
   ]
  },
  {
   "cell_type": "markdown",
   "metadata": {},
   "source": [
    "Важно! замечание к заданию.\n",
    "\n",
    "**** Для зачета достаточно сделать любые два задания из трех! (четвертое бонусное)****\n",
    "\n",
    "При копировании с сайта нетологии Jupyter ноутбук изменяет кавычки ’ на `. Прошу учесть данный факт и обращать внимание.\n",
    "Достаточно просто заменить кавычки."
   ]
  }
 ],
 "metadata": {
  "kernelspec": {
   "display_name": "Python 3",
   "language": "python",
   "name": "python3"
  },
  "language_info": {
   "codemirror_mode": {
    "name": "ipython",
    "version": 3
   },
   "file_extension": ".py",
   "mimetype": "text/x-python",
   "name": "python",
   "nbconvert_exporter": "python",
   "pygments_lexer": "ipython3",
   "version": "3.8.3"
  }
 },
 "nbformat": 4,
 "nbformat_minor": 4
}
