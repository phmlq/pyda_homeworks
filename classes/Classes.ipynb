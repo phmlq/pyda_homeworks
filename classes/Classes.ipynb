{
 "cells": [
  {
   "cell_type": "markdown",
   "metadata": {},
   "source": [
    "## Задание 1\n",
    "Напишите функцию, которая возвращает название валюты (поле ‘Name’) с максимальным значением курса с помощью сервиса https://www.cbr-xml-daily.ru/daily_json.js"
   ]
  },
  {
   "cell_type": "code",
   "execution_count": null,
   "metadata": {},
   "outputs": [],
   "source": [
    "import requests"
   ]
  },
  {
   "cell_type": "code",
   "execution_count": null,
   "metadata": {},
   "outputs": [],
   "source": [
    "def get_the_highest():\n",
    "    '''\n",
    "    Нахожу самую дорогую валюту в данных, полученных от https://www.cbr-xml-daily.ru/daily_json.js.\n",
    "    Возвращаю ее название.\n",
    "    Входные параметры не нужны.\n",
    "    '''\n",
    "    currencies = requests.get('https://www.cbr-xml-daily.ru/daily_json.js').json()\n",
    "    value = 0.0\n",
    "    for currency in currencies['Valute'].values():\n",
    "        # если нужно учесть номинал, то вместо currency['Value'] указываем currency['Value']/currency['Nominal']\n",
    "        if currency['Value'] > value:\n",
    "            value = currency['Value']\n",
    "            key = currency['Name']\n",
    "    return key"
   ]
  },
  {
   "cell_type": "code",
   "execution_count": null,
   "metadata": {},
   "outputs": [],
   "source": [
    "get_the_highest()"
   ]
  },
  {
   "cell_type": "markdown",
   "metadata": {},
   "source": [
    "## Задание 2\n",
    "Добавьте в класс Rate параметр diff (со значениями True или False), который в случае значения True в методах курсов валют (eur, usd итд) будет возвращать не курс валюты, а изменение по сравнению в прошлым значением. Считайте, self.diff будет принимать значение True только при возврате значения курса. При отображении всей информации о валюте он не используется."
   ]
  },
  {
   "cell_type": "code",
   "execution_count": null,
   "metadata": {},
   "outputs": [],
   "source": [
    "class Rate:\n",
    "    def __init__(self, format_='value', diff=False):\n",
    "        self.format = format_\n",
    "        self.diff = diff\n",
    "    \n",
    "    def exchange_rates(self):\n",
    "        \"\"\"\n",
    "        Возвращает ответ сервиса с информацией о валютах в виде:\n",
    "        \n",
    "        {\n",
    "            'AMD': {\n",
    "                'CharCode': 'AMD',\n",
    "                'ID': 'R01060',\n",
    "                'Name': 'Армянских драмов',\n",
    "                'Nominal': 100,\n",
    "                'NumCode': '051',\n",
    "                'Previous': 14.103,\n",
    "                'Value': 14.0879\n",
    "                },\n",
    "            ...\n",
    "        }\n",
    "        \"\"\"\n",
    "        self.r = requests.get('https://www.cbr-xml-daily.ru/daily_json.js')\n",
    "        return self.r.json()['Valute']\n",
    "    \n",
    "    def make_format(self, currency):\n",
    "        \"\"\"\n",
    "        Возвращает информацию о валюте currency в трех вариантах:\n",
    "        - полная информация о валюте при self.format = 'full':\n",
    "        Rate('full').make_format('EUR')\n",
    "        {\n",
    "            'CharCode': 'EUR',\n",
    "            'ID': 'R01239',\n",
    "            'Name': 'Евро',\n",
    "            'Nominal': 1,\n",
    "            'NumCode': '978',\n",
    "            'Previous': 79.6765,\n",
    "            'Value': 79.4966\n",
    "        }\n",
    "        \n",
    "        – информация о текущем курсе при self.format = 'value' и self.diff = False\n",
    "        Rate('value').make_format('EUR')\n",
    "        79.4966\n",
    "\n",
    "        – информация об изменении курса за последние сутки при self.format = 'value' и self.diff = True\n",
    "        Rate('value', True).make_format('EUR')\n",
    "        -0.0969\n",
    "        \"\"\"\n",
    "        response = self.exchange_rates()\n",
    "        \n",
    "        if currency in response:\n",
    "            if self.format == 'full':\n",
    "                return response[currency]\n",
    "            \n",
    "            if self.format == 'value':\n",
    "                return round(response[currency]['Value'] - response[currency]['Previous'],4) if self.diff else response[currency]['Value'] \n",
    "        \n",
    "        return 'Error'\n",
    "    \n",
    "    def eur(self):\n",
    "        \"\"\"Возвращает:\n",
    "        — полную информацию о евро при self.format = 'full'\n",
    "        — курс евро на сегодня при self.format = 'value' и self.diff = False\n",
    "        — информацию об изменении курса евро за сутки при self.format = 'value' и self.diff = True\n",
    "        \"\"\"\n",
    "        return self.make_format('EUR')\n",
    "    \n",
    "    def usd(self):\n",
    "        \"\"\"Возвращает:\n",
    "        — полную информацию о долларе США при self.format = 'full'\n",
    "        — курс доллара США на сегодня при self.format = 'value' и self.diff = False\n",
    "        — информацию об изменении курса доллара США за сутки при self.format = 'value' и self.diff = True\n",
    "        \"\"\"\n",
    "        return self.make_format('USD')\n",
    "    \n",
    "    def brl(self):\n",
    "        \"\"\"Возвращает:\n",
    "        — полную информацию о бразильском реале при self.format = 'full'\n",
    "        — курс бразильского реала на сегодня при self.format = 'value' и self.diff = False\n",
    "        — информацию об изменении курса бразильского реала за сутки при self.format = 'value' и self.diff = True\n",
    "        \"\"\"\n",
    "        return self.make_format('BRL')"
   ]
  },
  {
   "cell_type": "code",
   "execution_count": null,
   "metadata": {
    "scrolled": true
   },
   "outputs": [],
   "source": [
    "print(Rate('value').make_format('EUR'))\n",
    "print(Rate('value', True).make_format('EUR'))"
   ]
  },
  {
   "cell_type": "markdown",
   "metadata": {},
   "source": [
    "## Задание 3\n",
    "Напишите класс Designer, который учитывает количество международных премий. Подсказки в коде занятия в разделе “Домашнее задание задача 3”.\n"
   ]
  },
  {
   "cell_type": "code",
   "execution_count": null,
   "metadata": {},
   "outputs": [],
   "source": [
    "class Employee:\n",
    "    def __init__(self, name, seniority):\n",
    "        self.name = name\n",
    "        self.seniority = seniority\n",
    "        \n",
    "        self.grade = 1\n",
    "    \n",
    "    def grade_up(self):\n",
    "        \"\"\"Повышает уровень сотрудника\"\"\"\n",
    "        self.grade += 1\n",
    "    \n",
    "    def publish_grade(self):\n",
    "        \"\"\"Публикация результатов аккредитации сотрудников\"\"\"\n",
    "        print(self.name, self.grade)\n",
    "    \n",
    "    def check_if_it_is_time_for_upgrade(self):\n",
    "        pass"
   ]
  },
  {
   "cell_type": "code",
   "execution_count": null,
   "metadata": {},
   "outputs": [],
   "source": [
    "class Designer(Employee):\n",
    "    def __init__(self, name, seniority):\n",
    "        super().__init__(name, seniority)\n",
    "    \n",
    "    def check_if_it_is_time_for_upgrade(self, international_award=False):\n",
    "        # для каждой аккредитации увеличиваем счетчик на 1\n",
    "        # при получении международной премии увеличиваем счетчик на 2\n",
    "        self.seniority += 2 if international_award else 1\n",
    "    \n",
    "        # условие повышения сотрудника из презентации\n",
    "        if self.seniority >= 7:\n",
    "            self.grade_up()\n",
    "            self.seniority %= 7\n",
    "        \n",
    "        # публикация результатов\n",
    "        return self.publish_grade()"
   ]
  },
  {
   "cell_type": "code",
   "execution_count": null,
   "metadata": {},
   "outputs": [],
   "source": [
    "d = Designer('Юра', 0)\n",
    "for i in range(5):\n",
    "    d.check_if_it_is_time_for_upgrade()\n",
    "    print(f'Обычная аккредитация: {d.seniority}')\n",
    "    d.check_if_it_is_time_for_upgrade(international_award=True)\n",
    "    print(f'Международная премия: {d.seniority}')"
   ]
  }
 ],
 "metadata": {
  "kernelspec": {
   "display_name": "Python 3",
   "language": "python",
   "name": "python3"
  },
  "language_info": {
   "codemirror_mode": {
    "name": "ipython",
    "version": 3
   },
   "file_extension": ".py",
   "mimetype": "text/x-python",
   "name": "python",
   "nbconvert_exporter": "python",
   "pygments_lexer": "ipython3",
   "version": "3.8.3"
  }
 },
 "nbformat": 4,
 "nbformat_minor": 4
}
